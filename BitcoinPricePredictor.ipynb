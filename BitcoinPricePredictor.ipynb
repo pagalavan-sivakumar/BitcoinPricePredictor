{
  "nbformat": 4,
  "nbformat_minor": 0,
  "metadata": {
    "colab": {
      "name": "BitcoinPricePredictor.ipynb",
      "provenance": [],
      "collapsed_sections": [],
      "toc_visible": true,
      "include_colab_link": true
    },
    "kernelspec": {
      "name": "python3",
      "display_name": "Python 3"
    },
    "language_info": {
      "name": "python"
    }
  },
  "cells": [
    {
      "cell_type": "markdown",
      "metadata": {
        "id": "view-in-github",
        "colab_type": "text"
      },
      "source": [
        "<a href=\"https://colab.research.google.com/github/pagalavan-sivakumar/BitcoinPricePredictor/blob/main/BitcoinPricePredictor.ipynb\" target=\"_parent\"><img src=\"https://colab.research.google.com/assets/colab-badge.svg\" alt=\"Open In Colab\"/></a>"
      ]
    },
    {
      "cell_type": "markdown",
      "metadata": {
        "id": "6Z3vkWcckNBi"
      },
      "source": [
        "1. Import Libraires"
      ]
    },
    {
      "cell_type": "code",
      "metadata": {
        "id": "VXUcj85vOJYq"
      },
      "source": [
        "import tensorflow as tf\n",
        "import pandas as pd\n",
        "import matplotlib.pyplot as plt\n",
        "import numpy as np\n",
        "from sklearn.preprocessing import StandardScaler, MinMaxScaler\n",
        "from tensorflow.keras.layers import Embedding, Dense, LSTM\n",
        "from tensorflow.keras.models import Sequential\n",
        "from tensorflow.keras.losses import BinaryCrossentropy\n",
        "from tensorflow.keras.optimizers import Adam\n",
        "\n",
        "from keras.layers import Dropout\n",
        "from keras.layers import Dense\n"
      ],
      "execution_count": 337,
      "outputs": []
    },
    {
      "cell_type": "markdown",
      "metadata": {
        "id": "DpxClm2hZPJU"
      },
      "source": [
        "2. Importing Data"
      ]
    },
    {
      "cell_type": "code",
      "metadata": {
        "id": "EVk8y0O45gkb"
      },
      "source": [
        ""
      ],
      "execution_count": null,
      "outputs": []
    },
    {
      "cell_type": "code",
      "metadata": {
        "colab": {
          "resources": {
            "http://localhost:8080/nbextensions/google.colab/files.js": {
              "data": "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",
              "ok": true,
              "headers": [
                [
                  "content-type",
                  "application/javascript"
                ]
              ],
              "status": 200,
              "status_text": ""
            }
          },
          "base_uri": "https://localhost:8080/",
          "height": 73
        },
        "id": "IOK6FUlzZ9db",
        "outputId": "85f9ab2d-e1a1-4042-c7db-3a0818b7b607"
      },
      "source": [
        "from google.colab import files\n",
        "uploaded = files.upload()"
      ],
      "execution_count": 338,
      "outputs": [
        {
          "output_type": "display_data",
          "data": {
            "text/html": [
              "\n",
              "     <input type=\"file\" id=\"files-db7e924a-b2a2-493c-840c-372f23a06ce9\" name=\"files[]\" multiple disabled\n",
              "        style=\"border:none\" />\n",
              "     <output id=\"result-db7e924a-b2a2-493c-840c-372f23a06ce9\">\n",
              "      Upload widget is only available when the cell has been executed in the\n",
              "      current browser session. Please rerun this cell to enable.\n",
              "      </output>\n",
              "      <script src=\"/nbextensions/google.colab/files.js\"></script> "
            ],
            "text/plain": [
              "<IPython.core.display.HTML object>"
            ]
          },
          "metadata": {}
        },
        {
          "output_type": "stream",
          "name": "stdout",
          "text": [
            "Saving BTC-USD.csv to BTC-USD (15).csv\n"
          ]
        }
      ]
    },
    {
      "cell_type": "code",
      "metadata": {
        "id": "U2r643azbu3T",
        "colab": {
          "base_uri": "https://localhost:8080/"
        },
        "outputId": "a2eea3a6-1f03-40de-c4bb-63a547677948"
      },
      "source": [
        "data = pd.read_csv (r'BTC-USD.csv')\n",
        "data=data.dropna(0)\n",
        "print (data)"
      ],
      "execution_count": 339,
      "outputs": [
        {
          "output_type": "stream",
          "name": "stdout",
          "text": [
            "            Date     Open     High      Low    Close  Adj Close         Volume\n",
            "0     2014-09-17   465.86   468.17   452.42   457.33     457.33    21056800.00\n",
            "1     2014-09-18   456.86   456.86   413.10   424.44     424.44    34483200.00\n",
            "2     2014-09-19   424.10   427.83   384.53   394.80     394.80    37919700.00\n",
            "3     2014-09-20   394.67   423.30   389.88   408.90     408.90    36863600.00\n",
            "4     2014-09-21   408.08   412.43   393.18   398.82     398.82    26580100.00\n",
            "...          ...      ...      ...      ...      ...        ...            ...\n",
            "2632  2021-12-01 56907.96 59041.68 56553.08 57229.83   57229.83 36858195307.00\n",
            "2633  2021-12-02 57217.37 57349.23 55895.13 56477.82   56477.82 32379968686.00\n",
            "2634  2021-12-03 56509.16 57482.17 52496.59 53598.25   53598.25 39789134215.00\n",
            "2635  2021-12-04 53727.88 53904.68 42874.62 49200.70   49200.70 61385677469.00\n",
            "2636  2021-12-05 49408.49 49768.15 47862.82 48617.16   48617.16 39008100352.00\n",
            "\n",
            "[2633 rows x 7 columns]\n"
          ]
        }
      ]
    },
    {
      "cell_type": "markdown",
      "metadata": {
        "id": "23yHtSs5csLY"
      },
      "source": [
        "3. Split origianl data into training and testing data\n",
        "\n",
        "\n"
      ]
    },
    {
      "cell_type": "code",
      "metadata": {
        "id": "a4WmEO7GciSM",
        "colab": {
          "base_uri": "https://localhost:8080/"
        },
        "outputId": "d23ffde1-5a2b-4064-d387-72788539b790"
      },
      "source": [
        "data_training = data[data['Date']<'2021-01-01']\n",
        "print (data_training)"
      ],
      "execution_count": 340,
      "outputs": [
        {
          "output_type": "stream",
          "name": "stdout",
          "text": [
            "            Date     Open     High      Low    Close  Adj Close         Volume\n",
            "0     2014-09-17   465.86   468.17   452.42   457.33     457.33    21056800.00\n",
            "1     2014-09-18   456.86   456.86   413.10   424.44     424.44    34483200.00\n",
            "2     2014-09-19   424.10   427.83   384.53   394.80     394.80    37919700.00\n",
            "3     2014-09-20   394.67   423.30   389.88   408.90     408.90    36863600.00\n",
            "4     2014-09-21   408.08   412.43   393.18   398.82     398.82    26580100.00\n",
            "...          ...      ...      ...      ...      ...        ...            ...\n",
            "2293  2020-12-27 26439.37 28288.84 25922.77 26272.29   26272.29 66479895605.00\n",
            "2294  2020-12-28 26280.82 27389.11 26207.64 27084.81   27084.81 49056742893.00\n",
            "2295  2020-12-29 27081.81 27370.72 25987.30 27362.44   27362.44 45265946774.00\n",
            "2296  2020-12-30 27360.09 28937.74 27360.09 28840.95   28840.95 51287442704.00\n",
            "2297  2020-12-31 28841.57 29244.88 28201.99 29001.72   29001.72 46754964848.00\n",
            "\n",
            "[2294 rows x 7 columns]\n"
          ]
        }
      ]
    },
    {
      "cell_type": "code",
      "metadata": {
        "id": "wGb3v77Eim2Q",
        "colab": {
          "base_uri": "https://localhost:8080/"
        },
        "outputId": "b576676a-e2d9-49e8-d1ca-67d0228b0ce9"
      },
      "source": [
        "data_test=  data[data['Date']>='2021-01-01'].copy()\n",
        "print (data_test)"
      ],
      "execution_count": 341,
      "outputs": [
        {
          "output_type": "stream",
          "name": "stdout",
          "text": [
            "            Date     Open     High      Low    Close  Adj Close         Volume\n",
            "2298  2021-01-01 28994.01 29600.63 28803.59 29374.15   29374.15 40730301359.00\n",
            "2299  2021-01-02 29376.46 33155.12 29091.18 32127.27   32127.27 67865420765.00\n",
            "2300  2021-01-03 32129.41 34608.56 32052.32 32782.02   32782.02 78665235202.00\n",
            "2301  2021-01-04 32810.95 33440.22 28722.76 31971.91   31971.91 81163475344.00\n",
            "2302  2021-01-05 31977.04 34437.59 30221.19 33992.43   33992.43 67547324782.00\n",
            "...          ...      ...      ...      ...      ...        ...            ...\n",
            "2632  2021-12-01 56907.96 59041.68 56553.08 57229.83   57229.83 36858195307.00\n",
            "2633  2021-12-02 57217.37 57349.23 55895.13 56477.82   56477.82 32379968686.00\n",
            "2634  2021-12-03 56509.16 57482.17 52496.59 53598.25   53598.25 39789134215.00\n",
            "2635  2021-12-04 53727.88 53904.68 42874.62 49200.70   49200.70 61385677469.00\n",
            "2636  2021-12-05 49408.49 49768.15 47862.82 48617.16   48617.16 39008100352.00\n",
            "\n",
            "[339 rows x 7 columns]\n"
          ]
        }
      ]
    },
    {
      "cell_type": "markdown",
      "metadata": {
        "id": "EqGCrtN_kjNV"
      },
      "source": [
        "4) Drop irrelavant data for the neural network"
      ]
    },
    {
      "cell_type": "code",
      "metadata": {
        "id": "iHHEPK0Gksn9",
        "colab": {
          "base_uri": "https://localhost:8080/",
          "height": 206
        },
        "outputId": "5dd2d2a1-1e2c-46ba-fd6e-03711eb2a63c"
      },
      "source": [
        "training_data= data_training.drop(['Date', 'Adj Close'], axis = 1)\n",
        "training_data.head()"
      ],
      "execution_count": 342,
      "outputs": [
        {
          "output_type": "execute_result",
          "data": {
            "text/html": [
              "<div>\n",
              "<style scoped>\n",
              "    .dataframe tbody tr th:only-of-type {\n",
              "        vertical-align: middle;\n",
              "    }\n",
              "\n",
              "    .dataframe tbody tr th {\n",
              "        vertical-align: top;\n",
              "    }\n",
              "\n",
              "    .dataframe thead th {\n",
              "        text-align: right;\n",
              "    }\n",
              "</style>\n",
              "<table border=\"1\" class=\"dataframe\">\n",
              "  <thead>\n",
              "    <tr style=\"text-align: right;\">\n",
              "      <th></th>\n",
              "      <th>Open</th>\n",
              "      <th>High</th>\n",
              "      <th>Low</th>\n",
              "      <th>Close</th>\n",
              "      <th>Volume</th>\n",
              "    </tr>\n",
              "  </thead>\n",
              "  <tbody>\n",
              "    <tr>\n",
              "      <th>0</th>\n",
              "      <td>465.86</td>\n",
              "      <td>468.17</td>\n",
              "      <td>452.42</td>\n",
              "      <td>457.33</td>\n",
              "      <td>21056800.00</td>\n",
              "    </tr>\n",
              "    <tr>\n",
              "      <th>1</th>\n",
              "      <td>456.86</td>\n",
              "      <td>456.86</td>\n",
              "      <td>413.10</td>\n",
              "      <td>424.44</td>\n",
              "      <td>34483200.00</td>\n",
              "    </tr>\n",
              "    <tr>\n",
              "      <th>2</th>\n",
              "      <td>424.10</td>\n",
              "      <td>427.83</td>\n",
              "      <td>384.53</td>\n",
              "      <td>394.80</td>\n",
              "      <td>37919700.00</td>\n",
              "    </tr>\n",
              "    <tr>\n",
              "      <th>3</th>\n",
              "      <td>394.67</td>\n",
              "      <td>423.30</td>\n",
              "      <td>389.88</td>\n",
              "      <td>408.90</td>\n",
              "      <td>36863600.00</td>\n",
              "    </tr>\n",
              "    <tr>\n",
              "      <th>4</th>\n",
              "      <td>408.08</td>\n",
              "      <td>412.43</td>\n",
              "      <td>393.18</td>\n",
              "      <td>398.82</td>\n",
              "      <td>26580100.00</td>\n",
              "    </tr>\n",
              "  </tbody>\n",
              "</table>\n",
              "</div>"
            ],
            "text/plain": [
              "    Open   High    Low  Close      Volume\n",
              "0 465.86 468.17 452.42 457.33 21056800.00\n",
              "1 456.86 456.86 413.10 424.44 34483200.00\n",
              "2 424.10 427.83 384.53 394.80 37919700.00\n",
              "3 394.67 423.30 389.88 408.90 36863600.00\n",
              "4 408.08 412.43 393.18 398.82 26580100.00"
            ]
          },
          "metadata": {},
          "execution_count": 342
        }
      ]
    },
    {
      "cell_type": "code",
      "metadata": {
        "colab": {
          "base_uri": "https://localhost:8080/",
          "height": 206
        },
        "id": "8m6WkIgisP2f",
        "outputId": "bd0aa69a-0198-4e3d-fdf2-fe8b2a3aab00"
      },
      "source": [
        "testing_data= data_test.drop(['Date','Adj Close'], axis= 1)\n",
        "testing_data.head()"
      ],
      "execution_count": 343,
      "outputs": [
        {
          "output_type": "execute_result",
          "data": {
            "text/html": [
              "<div>\n",
              "<style scoped>\n",
              "    .dataframe tbody tr th:only-of-type {\n",
              "        vertical-align: middle;\n",
              "    }\n",
              "\n",
              "    .dataframe tbody tr th {\n",
              "        vertical-align: top;\n",
              "    }\n",
              "\n",
              "    .dataframe thead th {\n",
              "        text-align: right;\n",
              "    }\n",
              "</style>\n",
              "<table border=\"1\" class=\"dataframe\">\n",
              "  <thead>\n",
              "    <tr style=\"text-align: right;\">\n",
              "      <th></th>\n",
              "      <th>Open</th>\n",
              "      <th>High</th>\n",
              "      <th>Low</th>\n",
              "      <th>Close</th>\n",
              "      <th>Volume</th>\n",
              "    </tr>\n",
              "  </thead>\n",
              "  <tbody>\n",
              "    <tr>\n",
              "      <th>2298</th>\n",
              "      <td>28994.01</td>\n",
              "      <td>29600.63</td>\n",
              "      <td>28803.59</td>\n",
              "      <td>29374.15</td>\n",
              "      <td>40730301359.00</td>\n",
              "    </tr>\n",
              "    <tr>\n",
              "      <th>2299</th>\n",
              "      <td>29376.46</td>\n",
              "      <td>33155.12</td>\n",
              "      <td>29091.18</td>\n",
              "      <td>32127.27</td>\n",
              "      <td>67865420765.00</td>\n",
              "    </tr>\n",
              "    <tr>\n",
              "      <th>2300</th>\n",
              "      <td>32129.41</td>\n",
              "      <td>34608.56</td>\n",
              "      <td>32052.32</td>\n",
              "      <td>32782.02</td>\n",
              "      <td>78665235202.00</td>\n",
              "    </tr>\n",
              "    <tr>\n",
              "      <th>2301</th>\n",
              "      <td>32810.95</td>\n",
              "      <td>33440.22</td>\n",
              "      <td>28722.76</td>\n",
              "      <td>31971.91</td>\n",
              "      <td>81163475344.00</td>\n",
              "    </tr>\n",
              "    <tr>\n",
              "      <th>2302</th>\n",
              "      <td>31977.04</td>\n",
              "      <td>34437.59</td>\n",
              "      <td>30221.19</td>\n",
              "      <td>33992.43</td>\n",
              "      <td>67547324782.00</td>\n",
              "    </tr>\n",
              "  </tbody>\n",
              "</table>\n",
              "</div>"
            ],
            "text/plain": [
              "         Open     High      Low    Close         Volume\n",
              "2298 28994.01 29600.63 28803.59 29374.15 40730301359.00\n",
              "2299 29376.46 33155.12 29091.18 32127.27 67865420765.00\n",
              "2300 32129.41 34608.56 32052.32 32782.02 78665235202.00\n",
              "2301 32810.95 33440.22 28722.76 31971.91 81163475344.00\n",
              "2302 31977.04 34437.59 30221.19 33992.43 67547324782.00"
            ]
          },
          "metadata": {},
          "execution_count": 343
        }
      ]
    },
    {
      "cell_type": "code",
      "metadata": {
        "id": "fwmMe5KGmJc9"
      },
      "source": [
        "scaler = MinMaxScaler(feature_range=(0,1))\n",
        "training_data = scaler.fit_transform(training_data)\n"
      ],
      "execution_count": 345,
      "outputs": []
    },
    {
      "cell_type": "code",
      "metadata": {
        "id": "Klskyh1QsqWF"
      },
      "source": [
        "scaler = MinMaxScaler(feature_range=(0,1))\n",
        "testing_data = scaler.fit_transform(testing_data)\n"
      ],
      "execution_count": 347,
      "outputs": []
    },
    {
      "cell_type": "markdown",
      "metadata": {
        "id": "agbVFHimnasM"
      },
      "source": [
        "5) Create X and Y training lists and add data into the list"
      ]
    },
    {
      "cell_type": "code",
      "metadata": {
        "id": "l8w6cXS7nj0g"
      },
      "source": [
        "X_train= []\n",
        "y_train= []"
      ],
      "execution_count": 348,
      "outputs": []
    },
    {
      "cell_type": "code",
      "metadata": {
        "id": "OMVtemB0s58c"
      },
      "source": [
        "X_test= []\n",
        "y_test=[]\n"
      ],
      "execution_count": 349,
      "outputs": []
    },
    {
      "cell_type": "code",
      "metadata": {
        "id": "lCNnZGXvpYaJ",
        "colab": {
          "base_uri": "https://localhost:8080/"
        },
        "outputId": "59fd54a9-eb7e-46f5-bb63-732b9355c684"
      },
      "source": [
        "print(training_data.shape[0])"
      ],
      "execution_count": 350,
      "outputs": [
        {
          "output_type": "stream",
          "name": "stdout",
          "text": [
            "2294\n"
          ]
        }
      ]
    },
    {
      "cell_type": "code",
      "metadata": {
        "colab": {
          "base_uri": "https://localhost:8080/"
        },
        "id": "lBxIjj2ZtAqn",
        "outputId": "21d8783a-aa9e-4406-93e5-02ef4e4e98dc"
      },
      "source": [
        "print(testing_data.shape[0])"
      ],
      "execution_count": 351,
      "outputs": [
        {
          "output_type": "stream",
          "name": "stdout",
          "text": [
            "339\n"
          ]
        }
      ]
    },
    {
      "cell_type": "code",
      "metadata": {
        "id": "A8AZms_IpBT-"
      },
      "source": [
        "for i in range(60, training_data.shape[0]):\n",
        "  X_train.append(training_data[i-60:i])# Append the all the values for every 59 days\n",
        "  y_train.append(training_data[i,0]) # Append all the opening values for every day\n",
        "\n"
      ],
      "execution_count": 352,
      "outputs": []
    },
    {
      "cell_type": "code",
      "metadata": {
        "id": "D19o3miAtHQC"
      },
      "source": [
        "for i in range(60, testing_data.shape[0]):\n",
        "  X_test.append(testing_data[i-60:i])# Append the all the values for every 59 days\n",
        "  y_test.append(testing_data[i,0]) # Append all the opening values for every day"
      ],
      "execution_count": 353,
      "outputs": []
    },
    {
      "cell_type": "markdown",
      "metadata": {
        "id": "PUBp7V5ftSxr"
      },
      "source": [
        "6) Convert Lists into Arrays"
      ]
    },
    {
      "cell_type": "code",
      "metadata": {
        "id": "wMzBs49ZsNfg"
      },
      "source": [
        "X_train= np.array(X_train)\n",
        "y_train= np.array(y_train)"
      ],
      "execution_count": 354,
      "outputs": []
    },
    {
      "cell_type": "code",
      "metadata": {
        "id": "Icv0okPhtQr_"
      },
      "source": [
        "X_test= np.array(X_test)\n",
        "y_test= np.array(y_test)"
      ],
      "execution_count": 355,
      "outputs": []
    },
    {
      "cell_type": "code",
      "metadata": {
        "id": "efMiEzEusW9d",
        "colab": {
          "base_uri": "https://localhost:8080/"
        },
        "outputId": "2c19bc02-e6b6-4334-8dc7-047c97ae6410"
      },
      "source": [
        "print(X_train.shape)\n",
        "print(y_train.shape)\n"
      ],
      "execution_count": 356,
      "outputs": [
        {
          "output_type": "stream",
          "name": "stdout",
          "text": [
            "(2234, 60, 5)\n",
            "(2234,)\n"
          ]
        }
      ]
    },
    {
      "cell_type": "markdown",
      "metadata": {
        "id": "JxoBvZ3RTbw9"
      },
      "source": [
        "7) Create LSTM MODEL"
      ]
    },
    {
      "cell_type": "code",
      "metadata": {
        "id": "mE9_841sTdbO"
      },
      "source": [
        "additional_metrics = ['accuracy']"
      ],
      "execution_count": 357,
      "outputs": []
    },
    {
      "cell_type": "markdown",
      "metadata": {
        "id": "hpUoMNW2Z3h1"
      },
      "source": [
        "8)Define LSTM Model"
      ]
    },
    {
      "cell_type": "code",
      "metadata": {
        "id": "nl1n7O5-Z5p9"
      },
      "source": [
        "model = Sequential()\n",
        "model.add(LSTM(50, input_shape=(X_train.shape[1],5),return_sequences=True, activation='relu'))\n",
        "model.add(Dropout(0.2))\n",
        "model.add(LSTM(60, return_sequences=True, activation='relu'))\n",
        "model.add(Dropout(0.2))\n",
        "model.add(LSTM(80, return_sequences=True, activation='relu'))\n",
        "model.add(Dropout(0.2))\n",
        "model.add(LSTM(120, activation='relu'))\n",
        "model.add(Dropout(0.2))\n",
        "model.add(Dense(1))"
      ],
      "execution_count": 358,
      "outputs": []
    },
    {
      "cell_type": "markdown",
      "metadata": {
        "id": "XKTSIIf_i4Z7"
      },
      "source": [
        "9) Prepare to compile your model by adding the proper functions"
      ]
    },
    {
      "cell_type": "code",
      "metadata": {
        "id": "Jdk5WeadgTYT"
      },
      "source": [
        "model.compile(loss=\"mean_squared_error\", optimizer=\"adam\")"
      ],
      "execution_count": 359,
      "outputs": []
    },
    {
      "cell_type": "code",
      "metadata": {
        "id": "Y6Ecq_k2iHez",
        "colab": {
          "base_uri": "https://localhost:8080/"
        },
        "outputId": "460ffc81-e152-4345-9ac9-028d368ab17c"
      },
      "source": [
        "model.summary()"
      ],
      "execution_count": 360,
      "outputs": [
        {
          "output_type": "stream",
          "name": "stdout",
          "text": [
            "Model: \"sequential_11\"\n",
            "_________________________________________________________________\n",
            " Layer (type)                Output Shape              Param #   \n",
            "=================================================================\n",
            " lstm_44 (LSTM)              (None, 60, 50)            11200     \n",
            "                                                                 \n",
            " dropout_44 (Dropout)        (None, 60, 50)            0         \n",
            "                                                                 \n",
            " lstm_45 (LSTM)              (None, 60, 60)            26640     \n",
            "                                                                 \n",
            " dropout_45 (Dropout)        (None, 60, 60)            0         \n",
            "                                                                 \n",
            " lstm_46 (LSTM)              (None, 60, 80)            45120     \n",
            "                                                                 \n",
            " dropout_46 (Dropout)        (None, 60, 80)            0         \n",
            "                                                                 \n",
            " lstm_47 (LSTM)              (None, 120)               96480     \n",
            "                                                                 \n",
            " dropout_47 (Dropout)        (None, 120)               0         \n",
            "                                                                 \n",
            " dense_11 (Dense)            (None, 1)                 121       \n",
            "                                                                 \n",
            "=================================================================\n",
            "Total params: 179,561\n",
            "Trainable params: 179,561\n",
            "Non-trainable params: 0\n",
            "_________________________________________________________________\n"
          ]
        }
      ]
    },
    {
      "cell_type": "code",
      "metadata": {
        "id": "D93Fo7DeirZl",
        "colab": {
          "base_uri": "https://localhost:8080/"
        },
        "outputId": "20124e39-2306-45cf-fa5f-f78d9873e779"
      },
      "source": [
        "history = model.fit(X_train, y_train, batch_size=60, epochs=10,validation_split=0.20)"
      ],
      "execution_count": 361,
      "outputs": [
        {
          "output_type": "stream",
          "name": "stdout",
          "text": [
            "Epoch 1/10\n",
            "30/30 [==============================] - 14s 293ms/step - loss: 0.0098 - val_loss: 0.0037\n",
            "Epoch 2/10\n",
            "30/30 [==============================] - 8s 270ms/step - loss: 0.0017 - val_loss: 0.0051\n",
            "Epoch 3/10\n",
            "30/30 [==============================] - 8s 270ms/step - loss: 0.0014 - val_loss: 0.0031\n",
            "Epoch 4/10\n",
            "30/30 [==============================] - 8s 268ms/step - loss: 0.0013 - val_loss: 0.0047\n",
            "Epoch 5/10\n",
            "30/30 [==============================] - 8s 269ms/step - loss: 0.0011 - val_loss: 0.0040\n",
            "Epoch 6/10\n",
            "30/30 [==============================] - 8s 269ms/step - loss: 9.0114e-04 - val_loss: 0.0029\n",
            "Epoch 7/10\n",
            "30/30 [==============================] - 8s 269ms/step - loss: 0.0012 - val_loss: 0.0038\n",
            "Epoch 8/10\n",
            "30/30 [==============================] - 8s 268ms/step - loss: 9.5142e-04 - val_loss: 0.0027\n",
            "Epoch 9/10\n",
            "30/30 [==============================] - 8s 270ms/step - loss: 0.0012 - val_loss: 0.0026\n",
            "Epoch 10/10\n",
            "30/30 [==============================] - 8s 267ms/step - loss: 9.0248e-04 - val_loss: 0.0027\n"
          ]
        }
      ]
    },
    {
      "cell_type": "code",
      "metadata": {
        "id": "XMgnArEar3tQ"
      },
      "source": [
        "test_results = model.evaluate(X_train, y_train, verbose=False)\n",
        "\n"
      ],
      "execution_count": 362,
      "outputs": []
    },
    {
      "cell_type": "code",
      "metadata": {
        "colab": {
          "base_uri": "https://localhost:8080/"
        },
        "id": "b73LGvCb_Ugz",
        "outputId": "af6f889e-71b9-49ad-d02b-7d1d6e9ab256"
      },
      "source": [
        "print( test_results)"
      ],
      "execution_count": 363,
      "outputs": [
        {
          "output_type": "stream",
          "name": "stdout",
          "text": [
            "0.0009393083746545017\n"
          ]
        }
      ]
    },
    {
      "cell_type": "code",
      "metadata": {
        "id": "H8oUVtQWtmsa"
      },
      "source": [
        "y_prediction= model.predict(X_test, verbose=False) "
      ],
      "execution_count": 364,
      "outputs": []
    },
    {
      "cell_type": "code",
      "metadata": {
        "id": "5ZzncwqNz7rG"
      },
      "source": [
        "scale=1/2.59364857e-05"
      ],
      "execution_count": 365,
      "outputs": []
    },
    {
      "cell_type": "code",
      "metadata": {
        "id": "UwW2Wu8ez_Bm"
      },
      "source": [
        "y_prediction= scale*y_prediction"
      ],
      "execution_count": 366,
      "outputs": []
    },
    {
      "cell_type": "code",
      "metadata": {
        "id": "nqD7p5rj3WL_"
      },
      "source": [
        "y_test= scale*y_test"
      ],
      "execution_count": 367,
      "outputs": []
    },
    {
      "cell_type": "code",
      "metadata": {
        "id": "ehh2DxcW0FwS",
        "colab": {
          "base_uri": "https://localhost:8080/",
          "height": 311
        },
        "outputId": "dc719ab0-510b-4a46-bedc-577b65169385"
      },
      "source": [
        ""
      ],
      "execution_count": 368,
      "outputs": [
        {
          "output_type": "error",
          "ename": "KeyError",
          "evalue": "ignored",
          "traceback": [
            "\u001b[0;31m---------------------------------------------------------------------------\u001b[0m",
            "\u001b[0;31mKeyError\u001b[0m                                  Traceback (most recent call last)",
            "\u001b[0;32m<ipython-input-368-7d0432eb466f>\u001b[0m in \u001b[0;36m<module>\u001b[0;34m()\u001b[0m\n\u001b[0;32m----> 1\u001b[0;31m \u001b[0mprint\u001b[0m\u001b[0;34m(\u001b[0m\u001b[0my_prediction\u001b[0m\u001b[0;34m)\u001b[0m\u001b[0;34m\u001b[0m\u001b[0;34m\u001b[0m\u001b[0m\n\u001b[0m",
            "\u001b[0;32m/usr/local/lib/python3.7/dist-packages/numpy/core/arrayprint.py\u001b[0m in \u001b[0;36m_array_str_implementation\u001b[0;34m(a, max_line_width, precision, suppress_small, array2string)\u001b[0m\n\u001b[1;32m   1488\u001b[0m         \u001b[0;32mreturn\u001b[0m \u001b[0m_guarded_repr_or_str\u001b[0m\u001b[0;34m(\u001b[0m\u001b[0mnp\u001b[0m\u001b[0;34m.\u001b[0m\u001b[0mndarray\u001b[0m\u001b[0;34m.\u001b[0m\u001b[0m__getitem__\u001b[0m\u001b[0;34m(\u001b[0m\u001b[0ma\u001b[0m\u001b[0;34m,\u001b[0m \u001b[0;34m(\u001b[0m\u001b[0;34m)\u001b[0m\u001b[0;34m)\u001b[0m\u001b[0;34m)\u001b[0m\u001b[0;34m\u001b[0m\u001b[0;34m\u001b[0m\u001b[0m\n\u001b[1;32m   1489\u001b[0m \u001b[0;34m\u001b[0m\u001b[0m\n\u001b[0;32m-> 1490\u001b[0;31m     \u001b[0;32mreturn\u001b[0m \u001b[0marray2string\u001b[0m\u001b[0;34m(\u001b[0m\u001b[0ma\u001b[0m\u001b[0;34m,\u001b[0m \u001b[0mmax_line_width\u001b[0m\u001b[0;34m,\u001b[0m \u001b[0mprecision\u001b[0m\u001b[0;34m,\u001b[0m \u001b[0msuppress_small\u001b[0m\u001b[0;34m,\u001b[0m \u001b[0;34m' '\u001b[0m\u001b[0;34m,\u001b[0m \u001b[0;34m\"\"\u001b[0m\u001b[0;34m)\u001b[0m\u001b[0;34m\u001b[0m\u001b[0;34m\u001b[0m\u001b[0m\n\u001b[0m\u001b[1;32m   1491\u001b[0m \u001b[0;34m\u001b[0m\u001b[0m\n\u001b[1;32m   1492\u001b[0m \u001b[0;34m\u001b[0m\u001b[0m\n",
            "\u001b[0;32m/usr/local/lib/python3.7/dist-packages/numpy/core/arrayprint.py\u001b[0m in \u001b[0;36marray2string\u001b[0;34m(a, max_line_width, precision, suppress_small, separator, prefix, style, formatter, threshold, edgeitems, sign, floatmode, suffix, legacy)\u001b[0m\n\u001b[1;32m    690\u001b[0m         \u001b[0;32mreturn\u001b[0m \u001b[0;34m\"[]\"\u001b[0m\u001b[0;34m\u001b[0m\u001b[0;34m\u001b[0m\u001b[0m\n\u001b[1;32m    691\u001b[0m \u001b[0;34m\u001b[0m\u001b[0m\n\u001b[0;32m--> 692\u001b[0;31m     \u001b[0;32mreturn\u001b[0m \u001b[0m_array2string\u001b[0m\u001b[0;34m(\u001b[0m\u001b[0ma\u001b[0m\u001b[0;34m,\u001b[0m \u001b[0moptions\u001b[0m\u001b[0;34m,\u001b[0m \u001b[0mseparator\u001b[0m\u001b[0;34m,\u001b[0m \u001b[0mprefix\u001b[0m\u001b[0;34m)\u001b[0m\u001b[0;34m\u001b[0m\u001b[0;34m\u001b[0m\u001b[0m\n\u001b[0m\u001b[1;32m    693\u001b[0m \u001b[0;34m\u001b[0m\u001b[0m\n\u001b[1;32m    694\u001b[0m \u001b[0;34m\u001b[0m\u001b[0m\n",
            "\u001b[0;32m/usr/local/lib/python3.7/dist-packages/numpy/core/arrayprint.py\u001b[0m in \u001b[0;36mwrapper\u001b[0;34m(self, *args, **kwargs)\u001b[0m\n\u001b[1;32m    466\u001b[0m             \u001b[0mrepr_running\u001b[0m\u001b[0;34m.\u001b[0m\u001b[0madd\u001b[0m\u001b[0;34m(\u001b[0m\u001b[0mkey\u001b[0m\u001b[0;34m)\u001b[0m\u001b[0;34m\u001b[0m\u001b[0;34m\u001b[0m\u001b[0m\n\u001b[1;32m    467\u001b[0m             \u001b[0;32mtry\u001b[0m\u001b[0;34m:\u001b[0m\u001b[0;34m\u001b[0m\u001b[0;34m\u001b[0m\u001b[0m\n\u001b[0;32m--> 468\u001b[0;31m                 \u001b[0;32mreturn\u001b[0m \u001b[0mf\u001b[0m\u001b[0;34m(\u001b[0m\u001b[0mself\u001b[0m\u001b[0;34m,\u001b[0m \u001b[0;34m*\u001b[0m\u001b[0margs\u001b[0m\u001b[0;34m,\u001b[0m \u001b[0;34m**\u001b[0m\u001b[0mkwargs\u001b[0m\u001b[0;34m)\u001b[0m\u001b[0;34m\u001b[0m\u001b[0;34m\u001b[0m\u001b[0m\n\u001b[0m\u001b[1;32m    469\u001b[0m             \u001b[0;32mfinally\u001b[0m\u001b[0;34m:\u001b[0m\u001b[0;34m\u001b[0m\u001b[0;34m\u001b[0m\u001b[0m\n\u001b[1;32m    470\u001b[0m                 \u001b[0mrepr_running\u001b[0m\u001b[0;34m.\u001b[0m\u001b[0mdiscard\u001b[0m\u001b[0;34m(\u001b[0m\u001b[0mkey\u001b[0m\u001b[0;34m)\u001b[0m\u001b[0;34m\u001b[0m\u001b[0;34m\u001b[0m\u001b[0m\n",
            "\u001b[0;32m/usr/local/lib/python3.7/dist-packages/numpy/core/arrayprint.py\u001b[0m in \u001b[0;36m_array2string\u001b[0;34m(a, options, separator, prefix)\u001b[0m\n\u001b[1;32m    501\u001b[0m     lst = _formatArray(a, format_function, options['linewidth'],\n\u001b[1;32m    502\u001b[0m                        \u001b[0mnext_line_prefix\u001b[0m\u001b[0;34m,\u001b[0m \u001b[0mseparator\u001b[0m\u001b[0;34m,\u001b[0m \u001b[0moptions\u001b[0m\u001b[0;34m[\u001b[0m\u001b[0;34m'edgeitems'\u001b[0m\u001b[0;34m]\u001b[0m\u001b[0;34m,\u001b[0m\u001b[0;34m\u001b[0m\u001b[0;34m\u001b[0m\u001b[0m\n\u001b[0;32m--> 503\u001b[0;31m                        summary_insert, options['legacy'])\n\u001b[0m\u001b[1;32m    504\u001b[0m     \u001b[0;32mreturn\u001b[0m \u001b[0mlst\u001b[0m\u001b[0;34m\u001b[0m\u001b[0;34m\u001b[0m\u001b[0m\n\u001b[1;32m    505\u001b[0m \u001b[0;34m\u001b[0m\u001b[0m\n",
            "\u001b[0;32m/usr/local/lib/python3.7/dist-packages/numpy/core/arrayprint.py\u001b[0m in \u001b[0;36m_formatArray\u001b[0;34m(a, format_function, line_width, next_line_prefix, separator, edge_items, summary_insert, legacy)\u001b[0m\n\u001b[1;32m    818\u001b[0m         return recurser(index=(),\n\u001b[1;32m    819\u001b[0m                         \u001b[0mhanging_indent\u001b[0m\u001b[0;34m=\u001b[0m\u001b[0mnext_line_prefix\u001b[0m\u001b[0;34m,\u001b[0m\u001b[0;34m\u001b[0m\u001b[0;34m\u001b[0m\u001b[0m\n\u001b[0;32m--> 820\u001b[0;31m                         curr_width=line_width)\n\u001b[0m\u001b[1;32m    821\u001b[0m     \u001b[0;32mfinally\u001b[0m\u001b[0;34m:\u001b[0m\u001b[0;34m\u001b[0m\u001b[0;34m\u001b[0m\u001b[0m\n\u001b[1;32m    822\u001b[0m         \u001b[0;31m# recursive closures have a cyclic reference to themselves, which\u001b[0m\u001b[0;34m\u001b[0m\u001b[0;34m\u001b[0m\u001b[0;34m\u001b[0m\u001b[0m\n",
            "\u001b[0;32m/usr/local/lib/python3.7/dist-packages/numpy/core/arrayprint.py\u001b[0m in \u001b[0;36mrecurser\u001b[0;34m(index, hanging_indent, curr_width)\u001b[0m\n\u001b[1;32m    804\u001b[0m             \u001b[0;32mfor\u001b[0m \u001b[0mi\u001b[0m \u001b[0;32min\u001b[0m \u001b[0mrange\u001b[0m\u001b[0;34m(\u001b[0m\u001b[0mtrailing_items\u001b[0m\u001b[0;34m,\u001b[0m \u001b[0;36m1\u001b[0m\u001b[0;34m,\u001b[0m \u001b[0;34m-\u001b[0m\u001b[0;36m1\u001b[0m\u001b[0;34m)\u001b[0m\u001b[0;34m:\u001b[0m\u001b[0;34m\u001b[0m\u001b[0;34m\u001b[0m\u001b[0m\n\u001b[1;32m    805\u001b[0m                 nested = recurser(index + (-i,), next_hanging_indent,\n\u001b[0;32m--> 806\u001b[0;31m                                   next_width)\n\u001b[0m\u001b[1;32m    807\u001b[0m                 \u001b[0ms\u001b[0m \u001b[0;34m+=\u001b[0m \u001b[0mhanging_indent\u001b[0m \u001b[0;34m+\u001b[0m \u001b[0mnested\u001b[0m \u001b[0;34m+\u001b[0m \u001b[0mline_sep\u001b[0m\u001b[0;34m\u001b[0m\u001b[0;34m\u001b[0m\u001b[0m\n\u001b[1;32m    808\u001b[0m \u001b[0;34m\u001b[0m\u001b[0m\n",
            "\u001b[0;32m/usr/local/lib/python3.7/dist-packages/numpy/core/arrayprint.py\u001b[0m in \u001b[0;36mrecurser\u001b[0;34m(index, hanging_indent, curr_width)\u001b[0m\n\u001b[1;32m    780\u001b[0m                 \u001b[0;31m# width of the separator is not considered on 1.13\u001b[0m\u001b[0;34m\u001b[0m\u001b[0;34m\u001b[0m\u001b[0;34m\u001b[0m\u001b[0m\n\u001b[1;32m    781\u001b[0m                 \u001b[0melem_width\u001b[0m \u001b[0;34m=\u001b[0m \u001b[0mcurr_width\u001b[0m\u001b[0;34m\u001b[0m\u001b[0;34m\u001b[0m\u001b[0m\n\u001b[0;32m--> 782\u001b[0;31m             \u001b[0mword\u001b[0m \u001b[0;34m=\u001b[0m \u001b[0mrecurser\u001b[0m\u001b[0;34m(\u001b[0m\u001b[0mindex\u001b[0m \u001b[0;34m+\u001b[0m \u001b[0;34m(\u001b[0m\u001b[0;34m-\u001b[0m\u001b[0;36m1\u001b[0m\u001b[0;34m,\u001b[0m\u001b[0;34m)\u001b[0m\u001b[0;34m,\u001b[0m \u001b[0mnext_hanging_indent\u001b[0m\u001b[0;34m,\u001b[0m \u001b[0mnext_width\u001b[0m\u001b[0;34m)\u001b[0m\u001b[0;34m\u001b[0m\u001b[0;34m\u001b[0m\u001b[0m\n\u001b[0m\u001b[1;32m    783\u001b[0m             s, line = _extendLine(\n\u001b[1;32m    784\u001b[0m                 s, line, word, elem_width, hanging_indent, legacy)\n",
            "\u001b[0;32m/usr/local/lib/python3.7/dist-packages/numpy/core/arrayprint.py\u001b[0m in \u001b[0;36mrecurser\u001b[0;34m(index, hanging_indent, curr_width)\u001b[0m\n\u001b[1;32m    726\u001b[0m \u001b[0;34m\u001b[0m\u001b[0m\n\u001b[1;32m    727\u001b[0m         \u001b[0;32mif\u001b[0m \u001b[0maxes_left\u001b[0m \u001b[0;34m==\u001b[0m \u001b[0;36m0\u001b[0m\u001b[0;34m:\u001b[0m\u001b[0;34m\u001b[0m\u001b[0;34m\u001b[0m\u001b[0m\n\u001b[0;32m--> 728\u001b[0;31m             \u001b[0;32mreturn\u001b[0m \u001b[0mformat_function\u001b[0m\u001b[0;34m(\u001b[0m\u001b[0ma\u001b[0m\u001b[0;34m[\u001b[0m\u001b[0mindex\u001b[0m\u001b[0;34m]\u001b[0m\u001b[0;34m)\u001b[0m\u001b[0;34m\u001b[0m\u001b[0;34m\u001b[0m\u001b[0m\n\u001b[0m\u001b[1;32m    729\u001b[0m \u001b[0;34m\u001b[0m\u001b[0m\n\u001b[1;32m    730\u001b[0m         \u001b[0;31m# when recursing, add a space to align with the [ added, and reduce the\u001b[0m\u001b[0;34m\u001b[0m\u001b[0;34m\u001b[0m\u001b[0;34m\u001b[0m\u001b[0m\n",
            "\u001b[0;31mKeyError\u001b[0m: 'y_test'"
          ]
        }
      ]
    },
    {
      "cell_type": "code",
      "metadata": {
        "id": "_kcTplwL5mpV"
      },
      "source": [
        "#np.set_printoptions(formatter={'float_kind':'{y_prediction:f}'.format})"
      ],
      "execution_count": null,
      "outputs": []
    },
    {
      "cell_type": "code",
      "metadata": {
        "id": "xFkM2gjz6GmP"
      },
      "source": [
        "#np.set_printoptions(formatter={'float_kind':'{y_test:f}'.format})"
      ],
      "execution_count": null,
      "outputs": []
    },
    {
      "cell_type": "code",
      "metadata": {
        "colab": {
          "base_uri": "https://localhost:8080/",
          "height": 513
        },
        "id": "e37Is2pI1Tg4",
        "outputId": "65bd9523-41ae-4c5b-efbf-31aaeadf30d4"
      },
      "source": [
        "\n",
        "fig, ax = plt.subplots(figsize=(16,8))\n",
        "ax.ticklabel_format(useOffset=False)\n",
        "plt.plot(y_test, color='red', label= 'Actual Price of Bitcoin')\n",
        "plt.plot(y_prediction, color='blue', label= 'Predicted Price of Bitcoin')\n",
        "plt.title('Bitcoin Price Predictor')\n",
        "plt.xlabel('Time')\n",
        "plt.ylabel('Bitcoin Price')\n",
        "plt.legend()\n",
        "plt.show()"
      ],
      "execution_count": 369,
      "outputs": [
        {
          "output_type": "display_data",
          "data": {
            "image/png": "[encoded data removed]",
            "text/plain": [
              "<Figure size 1152x576 with 1 Axes>"
            ]
          },
          "metadata": {
            "needs_background": "light"
          }
        }
      ]
    }
  ]
}